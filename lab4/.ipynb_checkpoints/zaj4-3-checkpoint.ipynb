{
 "cells": [
  {
   "cell_type": "markdown",
   "id": "8c01fc1b-8e76-4aa4-a041-9450f005c432",
   "metadata": {},
   "source": [
    "## ZADANIE 3"
   ]
  },
  {
   "cell_type": "code",
   "execution_count": null,
   "id": "0c6407ad-da81-4387-af9b-7128f480da7f",
   "metadata": {},
   "outputs": [],
   "source": [
    "from pyspark.sql import SparkSession\n",
    "from pyspark.sql.window import Window\n",
    "from pyspark.sql.functions import sum, avg, count, min, max, row_number, lead, lag, first, last"
   ]
  },
  {
   "cell_type": "code",
   "execution_count": null,
   "id": "2c00a18d-bdff-45d9-9ef3-b04b9799cc21",
   "metadata": {},
   "outputs": [],
   "source": [
    "spark = SparkSession.builder.appName(\"Zadanie3\").getOrCreate()\n",
    "     \n",
    "\n",
    "transactions_data = [\n",
    "    (1, '2011-01-01', 500), (1, '2011-01-15', 50), (1, '2011-01-22', 250),\n",
    "    (1, '2011-01-24', 75), (1, '2011-01-26', 125), (1, '2011-01-28', 175),\n",
    "    (2, '2011-01-01', 500), (2, '2011-01-15', 50), (2, '2011-01-22', 25),\n",
    "    (2, '2011-01-23', 125), (2, '2011-01-26', 200), (2, '2011-01-29', 250),\n",
    "    (3, '2011-01-01', 500), (3, '2011-01-15', 50), (3, '2011-01-22', 5000),\n",
    "    (3, '2011-01-25', 550), (3, '2011-01-27', 95), (3, '2011-01-30', 2500)\n",
    "]\n",
    "\n",
    "transactions_df = spark.createDataFrame(transactions_data, [\"AccountId\", \"TranDate\", \"TranAmt\"])\n",
    "\n",
    "\n",
    "window = Window.partitionBy(\"AccountId\").orderBy(\"TranDate\")\n",
    "window_r = window.rowsBetween(-2, 0)\n",
    "display(transactions_df)"
   ]
  },
  {
   "cell_type": "code",
   "execution_count": null,
   "id": "94ffb1f5-b381-4e2a-8477-4f2dfb68d657",
   "metadata": {},
   "outputs": [],
   "source": [
    "transactions_df = transactions_df.withColumn(\"RunTotalAmt\", sum(\"TranAmt\").over(window_r))\n",
    "transactions_df = transactions_df.withColumn(\"RunAvg\", avg(\"TranAmt\").over(window_r))\n",
    "transactions_df = transactions_df.withColumn(\"RunTranQty\", count(\"TranAmt\").over(window_r))\n",
    "transactions_df = transactions_df.withColumn(\"RunSmallAmt\", min(\"TranAmt\").over(window_r))\n",
    "transactions_df = transactions_df.withColumn(\"RunLargeAmt\", max(\"TranAmt\").over(window_r))\n",
    "transactions_df = transactions_df.withColumn(\"SlideAvg\", avg(\"TranAmt\").over(window_r))\n",
    "transactions_df = transactions_df.withColumn(\"SlideQty\", count(\"TranAmt\").over(window_r))\n",
    "transactions_df = transactions_df.withColumn(\"SlideMin\", min(\"TranAmt\").over(window_r))\n",
    "transactions_df = transactions_df.withColumn(\"SlideMax\", max(\"TranAmt\").over(window_r))\n",
    "transactions_df = transactions_df.withColumn(\"SlideTotal\", sum(\"TranAmt\").over(window_r))\n",
    "\n",
    "\n",
    "transactions_df = transactions_df.withColumn(\"LeadValue\", lead(\"TranAmt\").over(window))\n",
    "transactions_df = transactions_df.withColumn(\"LagValue\", lag(\"TranAmt\").over(window))\n",
    "transactions_df = transactions_df.withColumn(\"FirstValue\", first(\"TranAmt\").over(window))\n",
    "transactions_df = transactions_df.withColumn(\"LastValue\", last(\"TranAmt\").over(window_r))\n",
    "transactions_df = transactions_df.withColumn(\"RowNumber\", row_number().over(window))\n",
    "\n",
    "display(transactions_df)"
   ]
  }
 ],
 "metadata": {
  "kernelspec": {
   "display_name": "Python 3 (ipykernel)",
   "language": "python",
   "name": "python3"
  },
  "language_info": {
   "codemirror_mode": {
    "name": "ipython",
    "version": 3
   },
   "file_extension": ".py",
   "mimetype": "text/x-python",
   "name": "python",
   "nbconvert_exporter": "python",
   "pygments_lexer": "ipython3",
   "version": "3.12.2"
  }
 },
 "nbformat": 4,
 "nbformat_minor": 5
}
