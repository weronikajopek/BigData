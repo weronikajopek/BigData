{
 "cells": [
  {
   "cell_type": "markdown",
   "metadata": {
    "application/vnd.databricks.v1+cell": {
     "cellMetadata": {
      "byteLimit": 2048000,
      "rowLimit": 10000
     },
     "inputWidgets": {},
     "nuid": "8f1eb294-585d-4cd5-b6f5-7527ae399fdf",
     "showTitle": false,
     "tableResultSettingsMap": {},
     "title": ""
    }
   },
   "source": [
    "Names.csv \n",
    "* Dodaj kolumnę z wartością czasu wykonania notatnika w formacie epoch\n",
    "* Dodaj kolumnę w której wyliczysz wzrost w stopach (feet)\n",
    "* Odpowiedz na pytanie jakie jest najpopularniesze imię?\n",
    "* Dodaj kolumnę i policz wiek aktorów \n",
    "* Usuń kolumny (bio, death_details)\n",
    "* Zmień nazwy kolumn - dodaj kapitalizaję i usuń _\n",
    "* Posortuj dataframe po imieniu rosnąco"
   ]
  },
  {
   "cell_type": "code",
   "execution_count": 0,
   "metadata": {
    "application/vnd.databricks.v1+cell": {
     "cellMetadata": {
      "byteLimit": 2048000,
      "rowLimit": 10000
     },
     "inputWidgets": {},
     "nuid": "682ee105-0a36-455f-9c09-98dfba93ba21",
     "showTitle": false,
     "tableResultSettingsMap": {},
     "title": ""
    }
   },
   "outputs": [],
   "source": [
    "# filePath = \"dbfs:/FileStore/tables/Files/names.csv\"\n",
    "# namesDf = spark.read.format(\"csv\")\n",
    "#               .option(\"header\",\"true\")\n",
    "#               .option(\"inferSchema\",\"true\")\n",
    "#               .load(filePath)\n",
    "\n",
    "# display(namesDf)\n",
    "from pyspark.sql.functions import col, unix_timestamp, lit, round, year, when, split, avg\n",
    "from datetime import datetime\n",
    "filePath = \"dbfs:/FileStore/tables/Files/names.csv\"\n",
    "namesDf = spark.read.format(\"csv\").option(\"header\",\"true\").option(\"inferSchema\",\"true\").load(filePath)\n",
    "\n",
    "display(namesDf.limit(20))\n",
    "namesDf.explain()\n",
    "namesDf.columns\n",
    "namesDf = namesDf.withColumn(\"CurrTime\", lit(unix_timestamp(lit(datetime.now()))))\n",
    "\n",
    "namesDf = namesDf.withColumn(\"Feet\", round(col(\"height\") * 0.032, 2))\n",
    "\n",
    "tempDf = namesDf.withColumn(\"FirstName\", split(col(\"name\"), \" \").getItem(0))\n",
    "pop_name = tempDf.groupBy(\"FirstName\").count().orderBy(col(\"count\").desc()).first()[0]\n",
    "print(f\"Najczestsze imie: {pop_name}\")\n",
    "\n",
    "curr_year = datetime.now().year\n",
    "namesDf = namesDf.withColumn(\"Age\", curr_year - year(col(\"date_of_birth\")))\n",
    "\n",
    "namesDf = namesDf.drop(\"bio\", \"death_details\")\n",
    "\n",
    "for col_name in namesDf.columns:\n",
    "        new_col_name = col_name.replace(\"_\", \" \").title().replace(\" \", \"\")\n",
    "        namesDf = namesDf.withColumnRenamed(col_name, new_col_name)\n",
    "\n",
    "namesDf = namesDf.orderBy(col(\"Name\"))\n",
    "\n",
    "display(namesDf.limit(10))"
   ]
  },
  {
   "cell_type": "markdown",
   "metadata": {
    "application/vnd.databricks.v1+cell": {
     "cellMetadata": {
      "byteLimit": 2048000,
      "rowLimit": 10000
     },
     "inputWidgets": {},
     "nuid": "f86d9d14-5103-4d4a-8df2-cec361db347d",
     "showTitle": false,
     "tableResultSettingsMap": {},
     "title": ""
    }
   },
   "source": [
    "Movies.csv\n",
    "* Dodaj kolumnę z wartością czasu wykonania notatnika w formacie epoch\n",
    "* Dodaj kolumnę która wylicza ile lat upłynęło od publikacji filmu\n",
    "* Dodaj kolumnę która pokaże budżet filmu jako wartość numeryczną, (trzeba usunac znaki walut)\n",
    "* Usuń wiersze z dataframe gdzie wartości są null"
   ]
  },
  {
   "cell_type": "code",
   "execution_count": 0,
   "metadata": {
    "application/vnd.databricks.v1+cell": {
     "cellMetadata": {
      "byteLimit": 2048000,
      "rowLimit": 10000
     },
     "inputWidgets": {},
     "nuid": "dc238ac0-9f22-4685-b2d2-1a074e813334",
     "showTitle": false,
     "tableResultSettingsMap": {},
     "title": ""
    }
   },
   "outputs": [],
   "source": [
    "filePath = \"dbfs:/FileStore/tables/Files/movies.csv\"\n",
    "namesDf = spark.read.format(\"csv\")\n",
    "              .option(\"header\",\"true\")\n",
    "              .option(\"inferSchema\",\"true\")\n",
    "              .load(filePath)\n",
    "\n",
    "display(moviesDf.limit(20))\n",
    "moviesDf.explain()\n",
    "moviesDf.columns\n",
    "moviesDf = moviesDf.withColumn(\"CurrTime\", lit(unix_timestamp(lit(datetime.now()))))\n",
    "\n",
    "curr_year = datetime.now().year\n",
    "moviesDf = moviesDf.withColumn(\"SinceRelease\", curr_year - col(\"year\"))\n",
    "\n",
    "moviesDf = moviesDf.withColumn(\"BudgetNum\", split(col(\"budget\"), \" \").getItem(1).cast(\"int\"))\n",
    "\n",
    "moviesDf = moviesDf.dropna()\n",
    "display(moviesDf.limit(10))"
   ]
  },
  {
   "cell_type": "markdown",
   "metadata": {
    "application/vnd.databricks.v1+cell": {
     "cellMetadata": {
      "byteLimit": 2048000,
      "rowLimit": 10000
     },
     "inputWidgets": {},
     "nuid": "18d1e437-12d6-41c0-a8f4-d430ae74431f",
     "showTitle": false,
     "tableResultSettingsMap": {},
     "title": ""
    }
   },
   "source": [
    "ratings.csv\n",
    "* Dodaj kolumnę z wartością czasu wykonania notatnika w formacie epoch\n",
    "* Dla każdego z poniższych wyliczeń nie bierz pod uwagę `nulls` \n",
    "* Kto daje lepsze oceny chłopcy czy dziewczyny dla całego setu\n",
    "* Dla jednej z kolumn zmień typ danych do `long` "
   ]
  },
  {
   "cell_type": "code",
   "execution_count": 0,
   "metadata": {
    "application/vnd.databricks.v1+cell": {
     "cellMetadata": {
      "byteLimit": 2048000,
      "rowLimit": 10000
     },
     "inputWidgets": {},
     "nuid": "75c22c14-a54e-4727-b2ad-f8b631f2b541",
     "showTitle": false,
     "tableResultSettingsMap": {},
     "title": ""
    }
   },
   "outputs": [],
   "source": [
    "filePath = \"dbfs:/FileStore/tables/Files/ratings.csv\"\n",
    "namesDf = spark.read.format(\"csv\")\n",
    "              .option(\"header\",\"true\")\n",
    "              .option(\"inferSchema\",\"true\")\n",
    "              .load(filePath)\n",
    "\n",
    "display(ratingsDf.limit(10))\n",
    "ratingsDf.explain()\n",
    "ratingsDf.columns\n",
    "ratingsDf = ratingsDf.withColumn(\"CurrTime\", lit(unix_timestamp(lit(datetime.now()))))\n",
    "\n",
    "ratingsDf_filtered = ratingsDf.filter(col(\"males_allages_avg_vote\").isNotNull() & col(\"females_allages_avg_vote\").isNotNull())\n",
    "\n",
    "avg_male_rating = ratingsDf_filtered.select(avg(col(\"males_allages_avg_vote\"))).collect()[0][0]\n",
    "avg_female_rating = ratingsDf_filtered.select(avg(col(\"females_allages_avg_vote\"))).collect()[0][0]\n",
    "\n",
    "print(avg_female_rating)\n",
    "print(avg_male_rating)\n",
    "\n",
    "\n",
    "ratingsDf = ratingsDf.withColumn(\"total_votes_l\", col(\"total_votes\").cast(\"long\"))\n",
    "\n",
    "display(ratingsDf.limit(10))\n",
    "\n",
    "#zadanie 3\n",
    "ratingsDf_grouped = ratingsDf.groupBy(\"imdb_title_id\").agg(avg(\"weighted_average_vote\"))\n",
    "\n",
    "\n",
    "print(\"Before groupby:\")\n",
    "ratingsDf.explain()\n",
    "#hashed appeared\n",
    "print(\"After groupby:\")\n",
    "ratingsDf_grouped.explain()"
   ]
  }
 ],
 "metadata": {
  "application/vnd.databricks.v1+notebook": {
   "computePreferences": null,
   "dashboards": [],
   "environmentMetadata": null,
   "language": "python",
   "notebookMetadata": {
    "pythonIndentUnit": 2
   },
   "notebookName": "Cwiczenia 3",
   "widgets": {}
  }
 },
 "nbformat": 4,
 "nbformat_minor": 0
}
