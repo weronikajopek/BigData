{
 "cells": [
  {
   "cell_type": "code",
   "execution_count": null,
   "metadata": {},
   "outputs": [],
   "source": [
    "%python\n",
    "from pyspark.sql import SparkSession\n",
    "from pyspark.sql.functions import first, rand, count,col\n",
    "\n",
    "spark = SparkSession.builder.appName(\"JoinsExample\").getOrCreate()\n",
    "\n",
    "dates = spark.sql(\"SELECT explode(sequence(DATE'2024-01-01', DATE'2024-03-24', INTERVAL 1 DAY)) as calendar_date\")\n",
    "\n",
    "c_id = spark.sql(\"SELECT explode(sequence(1,12000, 1)) as client_id\")\n",
    "\n",
    "types = spark.sql(\"SELECT concat('col_', colName) as col_name FROM (SELECT explode(sequence(1,20, 1)) as colName)\")\n",
    "\n",
    "dates = dates.repartition(99)\n",
    "c_id = c_id.repartition(11)\n",
    "types = types.repartition(1)\n",
    "\n",
    "df_cartesian = (c_id.crossJoin(dates.select(\"calendar_date\")).crossJoin(types.select(\"col_name\")).select(\"client_id\", \"calendar_date\", \"col_name\"))\n",
    "\n",
    "df_cartesian = df_cartesian.withColumn(\"val\", (rand() * 10).cast(\"int\"))\n",
    "df_grp1 = df_cartesian.groupBy(\"client_id\", \"calendar_date\").pivot(\"col_name\").agg(first(\"val\").alias(\"val\"))\n",
    "df_grp2 = df_grp1.withColumnRenamed(\"client_id\", \"client_id_2\")\n",
    "df_grp2 = df_grp2.select(\n",
    "    *[col(c).alias(f\"{c}_2\") for c in df_grp2.columns])\n",
    "\n",
    "df_grp1.count()"
   ]
  },
  {
   "cell_type": "code",
   "execution_count": null,
   "metadata": {},
   "outputs": [],
   "source": [
    "%python\n",
    "df_inner = df_grp1.join(df_grp2, (df_grp1.client_id == df_grp2.client_id_2_2) & \n",
    "                                    (df_grp1.calendar_date == df_grp2.calendar_date_2), \"inner\")\n",
    "\n",
    "df_left = df_grp1.join(df_grp2, (df_grp1.client_id == df_grp2.client_id_2_2) & \n",
    "                                   (df_grp1.calendar_date == df_grp2.calendar_date_2), \"left\")\n",
    "\n",
    "display(df_inner.limit(10))\n",
    "display(df_left.limit(10))\n",
    "df_inner.count()  "
   ]
  },
  {
   "cell_type": "code",
   "execution_count": null,
   "metadata": {},
   "outputs": [],
   "source": []
  }
 ],
 "metadata": {
  "application/vnd.databricks.v1+notebook": {
   "computePreferences": null,
   "dashboards": [],
   "environmentMetadata": null,
   "language": "python",
   "notebookMetadata": {
    "pythonIndentUnit": 2
   },
   "notebookName": "Cwiczenia 3",
   "widgets": {}
  },
  "kernelspec": {
   "display_name": "Python 3 (ipykernel)",
   "language": "python",
   "name": "python3"
  },
  "language_info": {
   "codemirror_mode": {
    "name": "ipython",
    "version": 3
   },
   "file_extension": ".py",
   "mimetype": "text/x-python",
   "name": "python",
   "nbconvert_exporter": "python",
   "pygments_lexer": "ipython3",
   "version": "3.12.2"
  }
 },
 "nbformat": 4,
 "nbformat_minor": 4
}
