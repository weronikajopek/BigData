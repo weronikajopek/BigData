{
 "cells": [
  {
   "cell_type": "code",
   "execution_count": null,
   "id": "76c96d8f-7808-404b-a14a-dd6d3a99a3cd",
   "metadata": {},
   "outputs": [],
   "source": [
    "from pyspark.sql.types import StructType, StructField, StringType, ArrayType\n",
    "from pyspark.sql.functions import explode_outer"
   ]
  },
  {
   "cell_type": "code",
   "execution_count": null,
   "id": "6b2958e0-f96b-4195-bf01-3b6916ec32ce",
   "metadata": {},
   "outputs": [],
   "source": [
    "def validate_schema(df, exp_schema: StructType):\n",
    "    actual_fields = set((f.name, f.dataType) for f in df.schema.fields)\n",
    "    exp_fields = set((f.name, f.dataType) for f in exp_schema.fields)\n",
    "\n",
    "    missing = exp_fields - actual_fields\n",
    "    extra = actual_fields - exp_fields\n",
    "\n",
    "    if missing:\n",
    "        raise ValueError(f\"missing: {missing}\")\n",
    "    if extra:\n",
    "        print(f\"extra fields: {extra}\")"
   ]
  },
  {
   "cell_type": "code",
   "execution_count": null,
   "id": "7359a168-25f5-4e50-bff4-af4f69f84161",
   "metadata": {},
   "outputs": [],
   "source": [
    "def safe_explode(df, col_name):\n",
    "    if col_name not in df.columns:\n",
    "        raise ValueError(f\"Column {col_name} not in DF\")\n",
    "    return df.withColumn(col_name, explode_outer(col(col_name)))"
   ]
  },
  {
   "cell_type": "code",
   "execution_count": null,
   "id": "e6864b94-0c96-4f58-9d0e-4c3477e4228a",
   "metadata": {},
   "outputs": [],
   "source": [
    "def check_nulls_in_key_columns(df, key_columns):\n",
    "    for col_name in key_columns:\n",
    "        null_count = df.filter(col(col_name).isNull()).count()\n",
    "        if null_count > 0:\n",
    "            raise ValueError(f\"Nulls in: {col_name} ({null_count} rows)\")"
   ]
  },
  {
   "cell_type": "code",
   "execution_count": null,
   "id": "9b431673-74b9-4f62-abc8-dae3598c3556",
   "metadata": {},
   "outputs": [],
   "source": [
    "def check_uniqueness(df, col_name):\n",
    "    total = df.count()\n",
    "    distinct = df.select(col_name).distinct().count()\n",
    "    if total != distinct:\n",
    "        raise ValueError(f\" {col_name} not uniq -  distincit: {distinct}  total: {total}\")"
   ]
  },
  {
   "cell_type": "code",
   "execution_count": null,
   "id": "10607476-d7e8-4b7f-a846-7de1fb406d61",
   "metadata": {},
   "outputs": [],
   "source": [
    "def check_row_limit(df, max_rows=100000):\n",
    "    count = df.count()\n",
    "    if count > max_rows:\n",
    "        raise RuntimeError(f\"too many rows: {count} > {max_rows}\")"
   ]
  }
 ],
 "metadata": {
  "kernelspec": {
   "display_name": "Python 3 (ipykernel)",
   "language": "python",
   "name": "python3"
  },
  "language_info": {
   "codemirror_mode": {
    "name": "ipython",
    "version": 3
   },
   "file_extension": ".py",
   "mimetype": "text/x-python",
   "name": "python",
   "nbconvert_exporter": "python",
   "pygments_lexer": "ipython3",
   "version": "3.12.2"
  }
 },
 "nbformat": 4,
 "nbformat_minor": 5
}
