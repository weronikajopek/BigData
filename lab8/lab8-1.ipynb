{
 "cells": [
  {
   "cell_type": "code",
   "execution_count": null,
   "id": "f1ca2eff-c446-4765-900e-411ae3e71c0b",
   "metadata": {},
   "outputs": [],
   "source": [
    "from pyspark.sql.functions import col, explode\n",
    "\n",
    "file_location = \"dbfs:/FileStore/tables/json/brzydki.json\"\n",
    "file_type = \"json\"\n",
    " \n",
    "df = spark.read.option(\"multiline\",\"true\").json(file_location)\n",
    "\n",
    "\n",
    "df_features = df.select(explode(col(\"features\")).alias(\"feature\"))\n",
    "\n",
    "df_flattened = df_features.select(\n",
    "    col(\"feature.type\").alias(\"feature_type\"),\n",
    "    col(\"feature.geometry.type\").alias(\"geometry_type\"),\n",
    "    col(\"feature.geometry.coordinates\").alias(\"geometry_coordinates\"),\n",
    "    col(\"feature.properties.featureId\").alias(\"feature_id\"),\n",
    "    col(\"feature.properties.toid\").alias(\"toid\"),\n",
    "    col(\"feature.properties.changeEventType\").alias(\"change_event_type\"),\n",
    "    col(\"feature.properties.featureGroup\").alias(\"feature_group\"),\n",
    "    col(\"feature.properties.lifecycleStatusComponent.lifecycleStatus\").alias(\"lifecycle_status\"),\n",
    "    col(\"feature.properties.jobReference\").alias(\"job_reference\"),\n",
    "    col(\"feature.properties.baseFormComponent.form\").alias(\"form_type\")\n",
    ")\n",
    "\n",
    "display(df_flattened)"
   ]
  }
 ],
 "metadata": {
  "kernelspec": {
   "display_name": "Python 3 (ipykernel)",
   "language": "python",
   "name": "python3"
  },
  "language_info": {
   "codemirror_mode": {
    "name": "ipython",
    "version": 3
   },
   "file_extension": ".py",
   "mimetype": "text/x-python",
   "name": "python",
   "nbconvert_exporter": "python",
   "pygments_lexer": "ipython3",
   "version": "3.12.2"
  }
 },
 "nbformat": 4,
 "nbformat_minor": 5
}
