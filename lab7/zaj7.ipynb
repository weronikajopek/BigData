{
 "cells": [
  {
   "cell_type": "code",
   "execution_count": null,
   "id": "e4972404-6f1f-43ea-90ad-7b30131457bb",
   "metadata": {},
   "outputs": [],
   "source": [
    "# Import functions\n",
    "from pyspark.sql.functions import col, current_timestamp,input_file_name\n",
    "\n",
    "# Define variables used in code below\n",
    "file_path = \"/FileStore/stream/events/\"\n",
    "username = spark.sql(\"SELECT regexp_replace(current_user(), '[^a-zA-Z0-9]', '_')\").first()[0]\n",
    "table_name = f\"{username}_etl_quickstart\"\n",
    "checkpoint_path = f\"/tmp/{username}/_checkpoint/etl_quickstart\"\n",
    "\n",
    "# Clear out data from previous demo execution\n",
    "spark.sql(f\"DROP TABLE IF EXISTS {table_name}\")\n",
    "dbutils.fs.rm(checkpoint_path, True)"
   ]
  },
  {
   "cell_type": "code",
   "execution_count": null,
   "id": "9d38bd2b-daf1-45fc-baf0-18f5e3adfe1e",
   "metadata": {},
   "outputs": [],
   "source": [
    "dbutils.fs.rm(f\"dbfs:/user/hive/warehouse/{username}_etl_quickstart\", True)"
   ]
  },
  {
   "cell_type": "code",
   "execution_count": null,
   "id": "35e7b89a-235a-40a6-a0b3-7dfc0bec9730",
   "metadata": {},
   "outputs": [],
   "source": [
    "%fs ls /databricks-datasets/structured-streaming/events"
   ]
  },
  {
   "cell_type": "code",
   "execution_count": null,
   "id": "146c9b50-1dd2-4159-97c6-95a46b6b9877",
   "metadata": {},
   "outputs": [],
   "source": [
    "dbutils.fs.cp(\"/databricks-datasets/structured-streaming/events/file-4.json\",\"/FileStore/stream/events/file-4.json\",True)"
   ]
  },
  {
   "cell_type": "code",
   "execution_count": null,
   "id": "83d6e5e2-f228-4a9d-aeea-e74f9272c735",
   "metadata": {},
   "outputs": [],
   "source": [
    "display(dbutils.fs.ls(\"/FileStore/stream/events/\"))"
   ]
  },
  {
   "cell_type": "code",
   "execution_count": null,
   "id": "f9be2457-cd44-4f6e-bfe3-826c0bb2d4d0",
   "metadata": {},
   "outputs": [],
   "source": [
    "spark.read.format(\"json\").load(\"dbfs:/FileStore/stream/events/\").count()"
   ]
  },
  {
   "cell_type": "code",
   "execution_count": null,
   "id": "1f8e371c-7de6-4fcd-8ec7-bd8a12e8cd37",
   "metadata": {},
   "outputs": [],
   "source": [
    "schema_location = f\"/tmp/{username}/schema/etl_quickstart\"\n",
    "(spark.readStream\n",
    "  .format(\"cloudFiles\")\n",
    "  .option(\"cloudFiles.format\", \"json\")\n",
    "  .option(\"cloudFiles.schemaLocation\", schema_location) \n",
    "\n",
    "  .load(file_path)\n",
    "\n",
    "  .withColumn(\"source_file\", input_file_name()) \n",
    "  .writeStream\n",
    "  .option(\"checkpointLocation\", checkpoint_path)\n",
    "\n",
    "  .trigger(availableNow=True)\n",
    "  .toTable(table_name))  \n",
    "\n",
    "df = spark.sql(f\"SELECT * FROM {table_name} LIMIT 10\")\n",
    "df.display()"
   ]
  },
  {
   "cell_type": "code",
   "execution_count": null,
   "id": "01726e13-e64b-4298-8de6-d7276f69eb92",
   "metadata": {},
   "outputs": [],
   "source": [
    "df = spark.sql(f\"select count(*) from {table_name}\")\n",
    "df.display()"
   ]
  },
  {
   "cell_type": "code",
   "execution_count": null,
   "id": "0d2b3c99-62bf-4219-a324-4cb7636682d1",
   "metadata": {},
   "outputs": [],
   "source": [
    "display(dbutils.fs.ls(f\"/tmp/{username}/_checkpoint/etl_quickstart/sources/0/metadata/\"))"
   ]
  },
  {
   "cell_type": "code",
   "execution_count": null,
   "id": "f7df7d80-6e9d-4e60-90d6-37e35ad3dd13",
   "metadata": {},
   "outputs": [],
   "source": [
    "display(dbutils.fs.ls(f\"/tmp/{username}/_checkpoint/etl_quickstart/sources/0/metadata/\"))"
   ]
  }
 ],
 "metadata": {
  "kernelspec": {
   "display_name": "Python 3 (ipykernel)",
   "language": "python",
   "name": "python3"
  },
  "language_info": {
   "codemirror_mode": {
    "name": "ipython",
    "version": 3
   },
   "file_extension": ".py",
   "mimetype": "text/x-python",
   "name": "python",
   "nbconvert_exporter": "python",
   "pygments_lexer": "ipython3",
   "version": "3.12.2"
  }
 },
 "nbformat": 4,
 "nbformat_minor": 5
}
