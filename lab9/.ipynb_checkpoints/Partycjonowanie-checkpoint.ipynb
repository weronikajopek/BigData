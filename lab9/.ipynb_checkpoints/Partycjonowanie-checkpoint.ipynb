{
 "cells": [
  {
   "cell_type": "markdown",
   "id": "87edfc08-b8ed-447c-aaea-1870a2b04c3f",
   "metadata": {},
   "source": [
    "Jak działa partycjonowanie\n",
    "\n",
    "    Rozpocznij z 8 partycjami.\n",
    "    Uruchom kod.\n",
    "    Otwórz Spark UI\n",
    "    Sprawdź drugi job (czy są jakieś różnice pomięczy drugim)\n",
    "    Sprawdź Event Timeline\n",
    "    Sprawdzaj czas wykonania.\n",
    "\n",
    "    Uruchom kilka razy rzeby sprawdzić średni czas wykonania.\n",
    "\n",
    "Powtórz z inną liczbą partycji\n",
    "\n",
    "    1 partycja\n",
    "    7 partycja\n",
    "    9 partycja\n",
    "    16 partycja\n",
    "    24 partycja\n",
    "    96 partycja\n",
    "    200 partycja\n",
    "    4000 partycja\n",
    "\n",
    "Zastąp repartition(n) z coalesce(n) używając:\n",
    "\n",
    "    6 partycji\n",
    "    5 partycji\n",
    "    4 partycji\n",
    "    3 partycji\n",
    "    2 partycji\n",
    "    1 partycji\n",
    "\n",
    "** Note: ** Dane muszą być wystarczająco duże żeby zaobserwować duże różnice z małymi partycjami.\n",
    "* To co możesz sprawdzić jak zachowują się małe dane z dużą ilośćia partycji.*"
   ]
  },
  {
   "cell_type": "code",
   "execution_count": null,
   "id": "333bb92c-8552-4797-baf3-660a943ef2b6",
   "metadata": {},
   "outputs": [],
   "source": [
    "# slots = sc.defaultParallelism\n",
    "spark.conf.get(\"spark.sql.shuffle.partitions\")"
   ]
  },
  {
   "cell_type": "code",
   "execution_count": null,
   "id": "95981517-ee28-4112-97e8-fa381ef32bc9",
   "metadata": {},
   "outputs": [],
   "source": [
    "park.catalog.clearCache()\n",
    "parquetDir = \"/FileStore/tables/training/wikipedia/pageviews/\"\n",
    "\n",
    "df = (spark.read\n",
    "  .parquet(parquetDir)\n",
    ".repartition(4000)\n",
    ".groupBy(\"count_views\").sum())\n",
    "\n",
    "\n",
    "df.explain\n",
    "df.count()"
   ]
  },
  {
   "cell_type": "code",
   "execution_count": null,
   "id": "d0c1c846-9948-4c8e-ab63-41aa08b33bd8",
   "metadata": {},
   "outputs": [],
   "source": [
    "df.rdd.getNumPartitions()"
   ]
  },
  {
   "cell_type": "code",
   "execution_count": null,
   "id": "6f2c4c1f-cc90-4a9b-81d5-e14b7c1e4c4b",
   "metadata": {},
   "outputs": [],
   "source": [
    "spark.catalog.clearCache()\n",
    "parquetDir = \"/FileStore/tables/training/wikipedia/pageviews/\"\n",
    "\n",
    "df = (spark.read\n",
    "  .parquet(parquetDir)\n",
    "    .coalesce(2)\n",
    ".groupBy(\"count_views\").sum())\n",
    "\n",
    "\n",
    "df.explain\n",
    "df.count()"
   ]
  },
  {
   "cell_type": "code",
   "execution_count": null,
   "id": "550bb376-f45e-41fc-8a1b-72c473d07ded",
   "metadata": {},
   "outputs": [],
   "source": [
    "df.rdd.getNumPartitions()"
   ]
  }
 ],
 "metadata": {
  "kernelspec": {
   "display_name": "Python 3 (ipykernel)",
   "language": "python",
   "name": "python3"
  },
  "language_info": {
   "codemirror_mode": {
    "name": "ipython",
    "version": 3
   },
   "file_extension": ".py",
   "mimetype": "text/x-python",
   "name": "python",
   "nbconvert_exporter": "python",
   "pygments_lexer": "ipython3",
   "version": "3.12.2"
  }
 },
 "nbformat": 4,
 "nbformat_minor": 5
}
