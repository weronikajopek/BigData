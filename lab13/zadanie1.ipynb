{
 "cells": [
  {
   "cell_type": "code",
   "execution_count": 0,
   "metadata": {
    "application/vnd.databricks.v1+cell": {
     "cellMetadata": {
      "byteLimit": 2048000,
      "rowLimit": 10000
     },
     "inputWidgets": {},
     "nuid": "9e3035ee-1eb3-4209-b8f2-0c19c67c3cd8",
     "showTitle": false,
     "tableResultSettingsMap": {},
     "title": ""
    }
   },
   "outputs": [],
   "source": [
    "#%pip install databricks-mosaic"
   ]
  },
  {
   "cell_type": "code",
   "execution_count": 0,
   "metadata": {
    "application/vnd.databricks.v1+cell": {
     "cellMetadata": {},
     "inputWidgets": {},
     "nuid": "f02e3087-6b88-4ca8-a12c-bb5183d4cb59",
     "showTitle": false,
     "tableResultSettingsMap": {},
     "title": ""
    }
   },
   "outputs": [],
   "source": [
    "from pyspark.sql.functions import *\n",
    "import geopandas as gpd\n",
    "from shapely import Point, Polygon\n",
    "import matplotlib.pyplot as plt\n",
    "from pyspark.sql.types import *"
   ]
  },
  {
   "cell_type": "code",
   "execution_count": 0,
   "metadata": {
    "application/vnd.databricks.v1+cell": {
     "cellMetadata": {
      "byteLimit": 2048000,
      "rowLimit": 10000
     },
     "inputWidgets": {},
     "nuid": "0282f73a-30ed-409c-91ce-173cd79bef36",
     "showTitle": false,
     "tableResultSettingsMap": {},
     "title": ""
    }
   },
   "outputs": [
    {
     "data": {
      "application/vnd.databricks.v1+h3_hint": "",
      "text/plain": []
     },
     "metadata": {},
     "output_type": "display_data"
    },
    {
     "data": {
      "image/png": "[encoded data removed]"
     },
     "metadata": {
      "application/vnd.databricks.v1+output": {
       "addedWidgets": {},
       "arguments": {},
       "data": "data:image/png;base64,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\n",
       "datasetInfos": [],
       "metadata": {},
       "removedWidgets": [],
       "type": "image"
      }
     },
     "output_type": "display_data"
    }
   ],
   "source": [
    "\n",
    "df = spark.read.format(\"json\").load(\"dbfs:/FileStore/geo/map.geojson\")\n",
    "df = df.select(explode(\"features\").alias(\"feature\"))\n",
    "df = df.select(\"feature.geometry.type\", \"feature.geometry.coordinates\")\n",
    "\n",
    "points = df.filter(col(\"type\") == \"Point\").toPandas()\n",
    "points['geometry'] = points.apply(lambda row: Point(row['coordinates']), axis=1)\n",
    "\n",
    "array_schema = ArrayType(ArrayType(DoubleType()))\n",
    "polys = df.filter(col(\"type\") == \"Polygon\").withColumn('coordinates', from_json(col(\"coordinates\")[0], array_schema)).toPandas()\n",
    "polys['geometry'] = polys.apply(lambda row: Polygon(row['coordinates']), axis=1)\n",
    "\n",
    "geopoints = gpd.GeoDataFrame(points, geometry='geometry')\n",
    "geopolys = gpd.GeoDataFrame(polys, geometry='geometry')\n",
    "\n",
    "ax = geopolys.plot(color='blue')\n",
    "ax = geopoints.plot(color='red', ax=ax)\n",
    "\n",
    "plt.show()\n"
   ]
  },
  {
   "cell_type": "code",
   "execution_count": 0,
   "metadata": {
    "application/vnd.databricks.v1+cell": {
     "cellMetadata": {
      "byteLimit": 2048000,
      "rowLimit": 10000
     },
     "inputWidgets": {},
     "nuid": "ca18ffb1-8a67-4fde-9584-e3536e180193",
     "showTitle": false,
     "tableResultSettingsMap": {},
     "title": ""
    }
   },
   "outputs": [
    {
     "name": "stdout",
     "output_type": "stream",
     "text": [
      "0    0.000118\n",
      "1    0.008043\n",
      "2    0.023260\n",
      "dtype: float64"
     ]
    }
   ],
   "source": [
    "display(geopolys.geometry.distance(geopoints.geometry[0]))"
   ]
  },
  {
   "cell_type": "code",
   "execution_count": 0,
   "metadata": {
    "application/vnd.databricks.v1+cell": {
     "cellMetadata": {
      "byteLimit": 2048000,
      "rowLimit": 10000
     },
     "inputWidgets": {},
     "nuid": "5800b858-0401-4a24-b42a-baf8f8963a05",
     "showTitle": false,
     "tableResultSettingsMap": {},
     "title": ""
    }
   },
   "outputs": [
    {
     "name": "stdout",
     "output_type": "stream",
     "text": [
      "0     True\n",
      "1    False\n",
      "2    False\n",
      "dtype: bool"
     ]
    }
   ],
   "source": [
    "display(geopolys.geometry.contains(geopoints.geometry[1]))"
   ]
  },
  {
   "cell_type": "code",
   "execution_count": 0,
   "metadata": {
    "application/vnd.databricks.v1+cell": {
     "cellMetadata": {
      "byteLimit": 2048000,
      "rowLimit": 10000
     },
     "inputWidgets": {},
     "nuid": "91d2390f-1428-40ec-aa05-e23ba9eae41f",
     "showTitle": false,
     "tableResultSettingsMap": {},
     "title": ""
    }
   },
   "outputs": [
    {
     "name": "stdout",
     "output_type": "stream",
     "text": [
      "0    False\n",
      "1    False\n",
      "2     True\n",
      "3    False\n",
      "dtype: bool"
     ]
    }
   ],
   "source": [
    "display(geopoints.geometry.intersects(geopolys.geometry[2]))"
   ]
  },
  {
   "cell_type": "code",
   "execution_count": 0,
   "metadata": {
    "application/vnd.databricks.v1+cell": {
     "cellMetadata": {
      "byteLimit": 2048000,
      "rowLimit": 10000
     },
     "inputWidgets": {},
     "nuid": "29c0318e-ca96-41c0-be42-5be7eaf98453",
     "showTitle": false,
     "tableResultSettingsMap": {},
     "title": ""
    }
   },
   "outputs": [
    {
     "name": "stdout",
     "output_type": "stream",
     "text": [
      "0    False\n",
      "1     True\n",
      "2    False\n",
      "3    False\n",
      "dtype: bool"
     ]
    }
   ],
   "source": [
    "display(geopoints.geometry.within(geopolys.geometry[0]))"
   ]
  }
 ],
 "metadata": {
  "application/vnd.databricks.v1+notebook": {
   "computePreferences": null,
   "dashboards": [],
   "environmentMetadata": null,
   "inputWidgetPreferences": null,
   "language": "python",
   "notebookMetadata": {
    "pythonIndentUnit": 4
   },
   "notebookName": "lab12",
   "widgets": {}
  },
  "language_info": {
   "name": "python"
  }
 },
 "nbformat": 4,
 "nbformat_minor": 0
}
